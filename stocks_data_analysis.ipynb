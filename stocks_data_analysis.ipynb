{
 "cells": [
  {
   "cell_type": "code",
   "execution_count": 151,
   "metadata": {
    "scrolled": true
   },
   "outputs": [
    {
     "name": "stdout",
     "output_type": "stream",
     "text": [
      "Requirement already satisfied: psycopg2 in c:\\users\\franc\\anaconda3\\envs\\mlenv\\lib\\site-packages (2.8.6)\n",
      "Requirement already satisfied: ipython-sql in c:\\users\\franc\\anaconda3\\envs\\mlenv\\lib\\site-packages (0.4.0)\n",
      "Requirement already satisfied: ipython>=1.0 in c:\\users\\franc\\anaconda3\\envs\\mlenv\\lib\\site-packages (from ipython-sql) (7.16.1)\n",
      "Requirement already satisfied: sqlalchemy>=0.6.7 in c:\\users\\franc\\anaconda3\\envs\\mlenv\\lib\\site-packages (from ipython-sql) (1.3.18)\n",
      "Requirement already satisfied: prettytable<1 in c:\\users\\franc\\anaconda3\\envs\\mlenv\\lib\\site-packages (from ipython-sql) (0.7.2)\n",
      "Requirement already satisfied: sqlparse in c:\\users\\franc\\anaconda3\\envs\\mlenv\\lib\\site-packages (from ipython-sql) (0.4.0)\n",
      "Requirement already satisfied: ipython-genutils>=0.1.0 in c:\\users\\franc\\anaconda3\\envs\\mlenv\\lib\\site-packages (from ipython-sql) (0.2.0)\n",
      "Requirement already satisfied: six in c:\\users\\franc\\anaconda3\\envs\\mlenv\\lib\\site-packages (from ipython-sql) (1.15.0)\n",
      "Requirement already satisfied: backcall in c:\\users\\franc\\anaconda3\\envs\\mlenv\\lib\\site-packages (from ipython>=1.0->ipython-sql) (0.2.0)\n",
      "Requirement already satisfied: colorama; sys_platform == \"win32\" in c:\\users\\franc\\anaconda3\\envs\\mlenv\\lib\\site-packages (from ipython>=1.0->ipython-sql) (0.4.3)\n",
      "Requirement already satisfied: pygments in c:\\users\\franc\\anaconda3\\envs\\mlenv\\lib\\site-packages (from ipython>=1.0->ipython-sql) (2.6.1)\n",
      "Requirement already satisfied: prompt-toolkit!=3.0.0,!=3.0.1,<3.1.0,>=2.0.0 in c:\\users\\franc\\anaconda3\\envs\\mlenv\\lib\\site-packages (from ipython>=1.0->ipython-sql) (3.0.5)\n",
      "Requirement already satisfied: traitlets>=4.2 in c:\\users\\franc\\anaconda3\\envs\\mlenv\\lib\\site-packages (from ipython>=1.0->ipython-sql) (4.3.3)\n",
      "Requirement already satisfied: decorator in c:\\users\\franc\\anaconda3\\envs\\mlenv\\lib\\site-packages (from ipython>=1.0->ipython-sql) (4.4.2)\n",
      "Requirement already satisfied: setuptools>=18.5 in c:\\users\\franc\\anaconda3\\envs\\mlenv\\lib\\site-packages (from ipython>=1.0->ipython-sql) (49.2.0.post20200714)\n",
      "Requirement already satisfied: jedi>=0.10 in c:\\users\\franc\\anaconda3\\envs\\mlenv\\lib\\site-packages (from ipython>=1.0->ipython-sql) (0.17.1)\n",
      "Requirement already satisfied: pickleshare in c:\\users\\franc\\anaconda3\\envs\\mlenv\\lib\\site-packages (from ipython>=1.0->ipython-sql) (0.7.5)\n",
      "Requirement already satisfied: wcwidth in c:\\users\\franc\\anaconda3\\envs\\mlenv\\lib\\site-packages (from prompt-toolkit!=3.0.0,!=3.0.1,<3.1.0,>=2.0.0->ipython>=1.0->ipython-sql) (0.2.5)\n",
      "Requirement already satisfied: parso<0.8.0,>=0.7.0 in c:\\users\\franc\\anaconda3\\envs\\mlenv\\lib\\site-packages (from jedi>=0.10->ipython>=1.0->ipython-sql) (0.7.0)\n"
     ]
    }
   ],
   "source": [
    "# Import our dependencies\n",
    "!pip install psycopg2\n",
    "import pandas as pd\n",
    "import numpy as np\n",
    "import tensorflow as tf\n",
    "from sklearn.model_selection import train_test_split\n",
    "from sklearn.preprocessing import StandardScaler,OneHotEncoder\n",
    "from sklearn.linear_model import LinearRegression\n",
    "from sklearn.svm import SVC\n",
    "import plotly.express as px\n",
    "from matplotlib import pyplot\n",
    "import hvplot.pandas\n",
    "import matplotlib.pyplot as plt\n",
    "from pandas.plotting import scatter_matrix\n",
    "from sklearn.cluster import KMeans\n",
    "from sklearn.linear_model import LogisticRegression\n",
    "from sklearn.metrics import accuracy_score\n",
    "from sklearn.preprocessing import StandardScaler, MinMaxScaler\n",
    "from sklearn.decomposition import PCA\n",
    "import statistics\n",
    "from matplotlib.ticker import MultipleLocator\n",
    "import scipy.stats as sts\n",
    "import time\n",
    "import re\n",
    "from sqlalchemy import create_engine \n",
    "import sqlalchemy\n",
    "import json\n",
    "import psycopg2\n",
    "from config import db_password\n",
    "!pip install ipython-sql\n",
    "from sklearn.neighbors import KNeighborsClassifier\n"
   ]
  },
  {
   "cell_type": "code",
   "execution_count": 2,
   "metadata": {},
   "outputs": [],
   "source": [
    "# Define variable for database connection\n",
    "protocol = \"postgres\"\n",
    "user = \"postgres\"\n",
    "location = \"localhost\"\n",
    "port = \"5432\"\n",
    "db = \"Time_Series\""
   ]
  },
  {
   "cell_type": "code",
   "execution_count": 4,
   "metadata": {},
   "outputs": [],
   "source": [
    "# This is the connection set up for the database\n",
    "\n",
    "connection = f'{protocol}://{user}:{db_password}@{location}:{port}/{db}'\n",
    "engine = create_engine(connection)\n"
   ]
  },
  {
   "cell_type": "code",
   "execution_count": 5,
   "metadata": {},
   "outputs": [],
   "source": [
    "# Test and verify that Jupyter Notebook is connected and able to read datafrom from PostgresSQL DB\n",
    "# Display few lines to show proper communication with the database\n",
    "\n",
    "with engine.connect() as connection:\n",
    "    result = connection.execute(\"select * from stocks limit 5\")\n",
    "    for row in result:\n",
    "       print(\"Name:\", row['name_'])\n",
    "        "
   ]
  },
  {
   "cell_type": "code",
   "execution_count": 6,
   "metadata": {},
   "outputs": [],
   "source": [
    "%load_ext sql\n"
   ]
  },
  {
   "cell_type": "code",
   "execution_count": 7,
   "metadata": {},
   "outputs": [],
   "source": [
    "# Here we read in the the data from PostgresSQL DB using the Pandas ...pd.read_sql_table.\n",
    "# Database name is \"Time_Series\". Table name is \"aal_stocks\"\n",
    "\n",
    "# Note: The option is there to read from either the database or the CSV file\n",
    "\n",
    "aal_stocks_df = pd.read_sql_table('aal_stocks',engine)\n",
    "aal_stocks_df.head()\n",
    "\n",
    "\n"
   ]
  },
  {
   "cell_type": "code",
   "execution_count": 152,
   "metadata": {},
   "outputs": [
    {
     "data": {
      "text/html": [
       "<div>\n",
       "<style scoped>\n",
       "    .dataframe tbody tr th:only-of-type {\n",
       "        vertical-align: middle;\n",
       "    }\n",
       "\n",
       "    .dataframe tbody tr th {\n",
       "        vertical-align: top;\n",
       "    }\n",
       "\n",
       "    .dataframe thead th {\n",
       "        text-align: right;\n",
       "    }\n",
       "</style>\n",
       "<table border=\"1\" class=\"dataframe\">\n",
       "  <thead>\n",
       "    <tr style=\"text-align: right;\">\n",
       "      <th></th>\n",
       "      <th>date_</th>\n",
       "      <th>open_</th>\n",
       "      <th>high_</th>\n",
       "      <th>low_</th>\n",
       "      <th>close_</th>\n",
       "      <th>volume_</th>\n",
       "      <th>name_</th>\n",
       "    </tr>\n",
       "  </thead>\n",
       "  <tbody>\n",
       "    <tr>\n",
       "      <th>0</th>\n",
       "      <td>2/8/2013</td>\n",
       "      <td>15.07</td>\n",
       "      <td>15.12</td>\n",
       "      <td>14.63</td>\n",
       "      <td>14.75</td>\n",
       "      <td>8407500</td>\n",
       "      <td>AAL</td>\n",
       "    </tr>\n",
       "    <tr>\n",
       "      <th>1</th>\n",
       "      <td>2/11/2013</td>\n",
       "      <td>14.89</td>\n",
       "      <td>15.01</td>\n",
       "      <td>14.26</td>\n",
       "      <td>14.46</td>\n",
       "      <td>8882000</td>\n",
       "      <td>AAL</td>\n",
       "    </tr>\n",
       "    <tr>\n",
       "      <th>2</th>\n",
       "      <td>2/12/2013</td>\n",
       "      <td>14.45</td>\n",
       "      <td>14.51</td>\n",
       "      <td>14.10</td>\n",
       "      <td>14.27</td>\n",
       "      <td>8126000</td>\n",
       "      <td>AAL</td>\n",
       "    </tr>\n",
       "    <tr>\n",
       "      <th>3</th>\n",
       "      <td>2/13/2013</td>\n",
       "      <td>14.30</td>\n",
       "      <td>14.94</td>\n",
       "      <td>14.25</td>\n",
       "      <td>14.66</td>\n",
       "      <td>10259500</td>\n",
       "      <td>AAL</td>\n",
       "    </tr>\n",
       "    <tr>\n",
       "      <th>4</th>\n",
       "      <td>2/14/2013</td>\n",
       "      <td>14.94</td>\n",
       "      <td>14.96</td>\n",
       "      <td>13.16</td>\n",
       "      <td>13.99</td>\n",
       "      <td>31879900</td>\n",
       "      <td>AAL</td>\n",
       "    </tr>\n",
       "  </tbody>\n",
       "</table>\n",
       "</div>"
      ],
      "text/plain": [
       "       date_  open_  high_   low_  close_   volume_ name_\n",
       "0   2/8/2013  15.07  15.12  14.63   14.75   8407500   AAL\n",
       "1  2/11/2013  14.89  15.01  14.26   14.46   8882000   AAL\n",
       "2  2/12/2013  14.45  14.51  14.10   14.27   8126000   AAL\n",
       "3  2/13/2013  14.30  14.94  14.25   14.66  10259500   AAL\n",
       "4  2/14/2013  14.94  14.96  13.16   13.99  31879900   AAL"
      ]
     },
     "execution_count": 152,
     "metadata": {},
     "output_type": "execute_result"
    }
   ],
   "source": [
    "# Import our input dataset which is the aal_stocks_5yr.csv. Data file is also available on Github\n",
    "#aal_stocks_df = pd.read_csv('/users/Test/Resources/aal_stocks_5yr.csv')\n",
    "#aal_stocks_df.head()"
   ]
  },
  {
   "cell_type": "code",
   "execution_count": 153,
   "metadata": {},
   "outputs": [
    {
     "data": {
      "text/html": [
       "<div>\n",
       "<style scoped>\n",
       "    .dataframe tbody tr th:only-of-type {\n",
       "        vertical-align: middle;\n",
       "    }\n",
       "\n",
       "    .dataframe tbody tr th {\n",
       "        vertical-align: top;\n",
       "    }\n",
       "\n",
       "    .dataframe thead th {\n",
       "        text-align: right;\n",
       "    }\n",
       "</style>\n",
       "<table border=\"1\" class=\"dataframe\">\n",
       "  <thead>\n",
       "    <tr style=\"text-align: right;\">\n",
       "      <th></th>\n",
       "      <th>date_</th>\n",
       "      <th>open_</th>\n",
       "      <th>high_</th>\n",
       "      <th>low_</th>\n",
       "      <th>close_</th>\n",
       "      <th>volume_</th>\n",
       "      <th>name_</th>\n",
       "    </tr>\n",
       "  </thead>\n",
       "  <tbody>\n",
       "    <tr>\n",
       "      <th>0</th>\n",
       "      <td>2013-02-08</td>\n",
       "      <td>15.07</td>\n",
       "      <td>15.12</td>\n",
       "      <td>14.63</td>\n",
       "      <td>14.75</td>\n",
       "      <td>8407500</td>\n",
       "      <td>AAL</td>\n",
       "    </tr>\n",
       "    <tr>\n",
       "      <th>1</th>\n",
       "      <td>2013-02-11</td>\n",
       "      <td>14.89</td>\n",
       "      <td>15.01</td>\n",
       "      <td>14.26</td>\n",
       "      <td>14.46</td>\n",
       "      <td>8882000</td>\n",
       "      <td>AAL</td>\n",
       "    </tr>\n",
       "    <tr>\n",
       "      <th>2</th>\n",
       "      <td>2013-02-12</td>\n",
       "      <td>14.45</td>\n",
       "      <td>14.51</td>\n",
       "      <td>14.10</td>\n",
       "      <td>14.27</td>\n",
       "      <td>8126000</td>\n",
       "      <td>AAL</td>\n",
       "    </tr>\n",
       "    <tr>\n",
       "      <th>3</th>\n",
       "      <td>2013-02-13</td>\n",
       "      <td>14.30</td>\n",
       "      <td>14.94</td>\n",
       "      <td>14.25</td>\n",
       "      <td>14.66</td>\n",
       "      <td>10259500</td>\n",
       "      <td>AAL</td>\n",
       "    </tr>\n",
       "    <tr>\n",
       "      <th>4</th>\n",
       "      <td>2013-02-14</td>\n",
       "      <td>14.94</td>\n",
       "      <td>14.96</td>\n",
       "      <td>13.16</td>\n",
       "      <td>13.99</td>\n",
       "      <td>31879900</td>\n",
       "      <td>AAL</td>\n",
       "    </tr>\n",
       "  </tbody>\n",
       "</table>\n",
       "</div>"
      ],
      "text/plain": [
       "       date_  open_  high_   low_  close_   volume_ name_\n",
       "0 2013-02-08  15.07  15.12  14.63   14.75   8407500   AAL\n",
       "1 2013-02-11  14.89  15.01  14.26   14.46   8882000   AAL\n",
       "2 2013-02-12  14.45  14.51  14.10   14.27   8126000   AAL\n",
       "3 2013-02-13  14.30  14.94  14.25   14.66  10259500   AAL\n",
       "4 2013-02-14  14.94  14.96  13.16   13.99  31879900   AAL"
      ]
     },
     "execution_count": 153,
     "metadata": {},
     "output_type": "execute_result"
    }
   ],
   "source": [
    "aal_stocks_df[\"date_\"] = (pd.to_datetime(aal_stocks_df['date_'].values))\n",
    "aal_stocks_df.head() "
   ]
  },
  {
   "cell_type": "code",
   "execution_count": 162,
   "metadata": {},
   "outputs": [
    {
     "name": "stdout",
     "output_type": "stream",
     "text": [
      "Columnopen_ has 0 null values\n",
      "Columnhigh_ has 0 null values\n",
      "Columnlow_ has 0 null values\n"
     ]
    }
   ],
   "source": [
    "# Check to see if there are null values or missing data. This will show where there is empty\n",
    "for column in aal_stocks_df2.columns:\n",
    "    print(f\"Column{column} has {aal_stocks_df[column].isnull().sum()} null values\" )"
   ]
  },
  {
   "cell_type": "code",
   "execution_count": 164,
   "metadata": {},
   "outputs": [
    {
     "data": {
      "text/plain": [
       "[]"
      ]
     },
     "metadata": {},
     "output_type": "display_data"
    }
   ],
   "source": [
    "# Generate our categorical variable list\n",
    "aal_stocks_cat =  aal_stocks_df2.dtypes[ aal_stocks_df2.dtypes == \"object\"].index.tolist()\n",
    "\n",
    "display(aal_stocks_cat)"
   ]
  },
  {
   "cell_type": "code",
   "execution_count": 165,
   "metadata": {},
   "outputs": [
    {
     "data": {
      "text/plain": [
       "Series([], dtype: float64)"
      ]
     },
     "execution_count": 165,
     "metadata": {},
     "output_type": "execute_result"
    }
   ],
   "source": [
    "# Check the number of unique values in each column\n",
    "aal_stocks_df2[aal_stocks_cat].nunique()"
   ]
  },
  {
   "cell_type": "code",
   "execution_count": 187,
   "metadata": {},
   "outputs": [],
   "source": [
    "# Create a OneHotEncoder instance\n",
    "enc = OneHotEncoder(sparse=False)\n",
    "\n",
    "# Fit and transform the OneHotEncoder using the categorical variable list\n",
    "aal_stocks_encode_df = pd.DataFrame(enc.fit_transform(aal_stocks_df2[aal_stocks_cat]))\n",
    "\n",
    "# Add the encoded variable names to the DataFrame\n",
    "aal_stocks_encode_df.columns = enc.get_feature_names(aal_stocks_cat)\n"
   ]
  },
  {
   "cell_type": "code",
   "execution_count": 167,
   "metadata": {
    "scrolled": true
   },
   "outputs": [
    {
     "data": {
      "text/html": [
       "<div>\n",
       "<style scoped>\n",
       "    .dataframe tbody tr th:only-of-type {\n",
       "        vertical-align: middle;\n",
       "    }\n",
       "\n",
       "    .dataframe tbody tr th {\n",
       "        vertical-align: top;\n",
       "    }\n",
       "\n",
       "    .dataframe thead th {\n",
       "        text-align: right;\n",
       "    }\n",
       "</style>\n",
       "<table border=\"1\" class=\"dataframe\">\n",
       "  <thead>\n",
       "    <tr style=\"text-align: right;\">\n",
       "      <th></th>\n",
       "      <th>open_</th>\n",
       "      <th>high_</th>\n",
       "      <th>low_</th>\n",
       "    </tr>\n",
       "  </thead>\n",
       "  <tbody>\n",
       "    <tr>\n",
       "      <th>0</th>\n",
       "      <td>15.07</td>\n",
       "      <td>15.12</td>\n",
       "      <td>14.63</td>\n",
       "    </tr>\n",
       "    <tr>\n",
       "      <th>1</th>\n",
       "      <td>14.89</td>\n",
       "      <td>15.01</td>\n",
       "      <td>14.26</td>\n",
       "    </tr>\n",
       "    <tr>\n",
       "      <th>2</th>\n",
       "      <td>14.45</td>\n",
       "      <td>14.51</td>\n",
       "      <td>14.10</td>\n",
       "    </tr>\n",
       "    <tr>\n",
       "      <th>3</th>\n",
       "      <td>14.30</td>\n",
       "      <td>14.94</td>\n",
       "      <td>14.25</td>\n",
       "    </tr>\n",
       "    <tr>\n",
       "      <th>4</th>\n",
       "      <td>14.94</td>\n",
       "      <td>14.96</td>\n",
       "      <td>13.16</td>\n",
       "    </tr>\n",
       "  </tbody>\n",
       "</table>\n",
       "</div>"
      ],
      "text/plain": [
       "   open_  high_   low_\n",
       "0  15.07  15.12  14.63\n",
       "1  14.89  15.01  14.26\n",
       "2  14.45  14.51  14.10\n",
       "3  14.30  14.94  14.25\n",
       "4  14.94  14.96  13.16"
      ]
     },
     "execution_count": 167,
     "metadata": {},
     "output_type": "execute_result"
    }
   ],
   "source": [
    "# Merge one-hot encoded features and drop the originals\n",
    "aal_stocks_df2 =  aal_stocks_df2.merge(aal_stocks_encode_df,left_index=True, right_index=True)\n",
    "\n",
    "aal_stocks_df2 = aal_stocks_df2.drop(aal_stocks_cat,1)\n",
    "\n",
    "aal_stocks_df2.head()"
   ]
  },
  {
   "cell_type": "code",
   "execution_count": 168,
   "metadata": {},
   "outputs": [
    {
     "name": "stdout",
     "output_type": "stream",
     "text": [
      "Columnopen_ has 0 null values\n",
      "Columnhigh_ has 0 null values\n",
      "Columnlow_ has 0 null values\n"
     ]
    },
    {
     "data": {
      "text/html": [
       "<div>\n",
       "<style scoped>\n",
       "    .dataframe tbody tr th:only-of-type {\n",
       "        vertical-align: middle;\n",
       "    }\n",
       "\n",
       "    .dataframe tbody tr th {\n",
       "        vertical-align: top;\n",
       "    }\n",
       "\n",
       "    .dataframe thead th {\n",
       "        text-align: right;\n",
       "    }\n",
       "</style>\n",
       "<table border=\"1\" class=\"dataframe\">\n",
       "  <thead>\n",
       "    <tr style=\"text-align: right;\">\n",
       "      <th></th>\n",
       "      <th>open_</th>\n",
       "      <th>high_</th>\n",
       "      <th>low_</th>\n",
       "    </tr>\n",
       "  </thead>\n",
       "  <tbody>\n",
       "    <tr>\n",
       "      <th>0</th>\n",
       "      <td>15.07</td>\n",
       "      <td>15.12</td>\n",
       "      <td>14.63</td>\n",
       "    </tr>\n",
       "    <tr>\n",
       "      <th>1</th>\n",
       "      <td>14.89</td>\n",
       "      <td>15.01</td>\n",
       "      <td>14.26</td>\n",
       "    </tr>\n",
       "    <tr>\n",
       "      <th>2</th>\n",
       "      <td>14.45</td>\n",
       "      <td>14.51</td>\n",
       "      <td>14.10</td>\n",
       "    </tr>\n",
       "    <tr>\n",
       "      <th>3</th>\n",
       "      <td>14.30</td>\n",
       "      <td>14.94</td>\n",
       "      <td>14.25</td>\n",
       "    </tr>\n",
       "    <tr>\n",
       "      <th>4</th>\n",
       "      <td>14.94</td>\n",
       "      <td>14.96</td>\n",
       "      <td>13.16</td>\n",
       "    </tr>\n",
       "  </tbody>\n",
       "</table>\n",
       "</div>"
      ],
      "text/plain": [
       "   open_  high_   low_\n",
       "0  15.07  15.12  14.63\n",
       "1  14.89  15.01  14.26\n",
       "2  14.45  14.51  14.10\n",
       "3  14.30  14.94  14.25\n",
       "4  14.94  14.96  13.16"
      ]
     },
     "execution_count": 168,
     "metadata": {},
     "output_type": "execute_result"
    }
   ],
   "source": [
    "# Drop Nas and nulls\n",
    "aal_stocks_df2 = aal_stocks_df2.dropna(how=\"all\")\n",
    "\n",
    "for column in aal_stocks_df2.columns:\n",
    "    print(f\"Column{column} has {aal_stocks_df2[column].isnull().sum()} null values\" )\n",
    "\n",
    "aal_stocks_df2.head()"
   ]
  },
  {
   "cell_type": "code",
   "execution_count": 169,
   "metadata": {},
   "outputs": [
    {
     "name": "stdout",
     "output_type": "stream",
     "text": [
      "[[-2.12725269 -2.15331212 -2.13994527]\n",
      " [-2.14367196 -2.16324955 -2.17408017]\n",
      " [-2.18380795 -2.20841973 -2.18884121]\n",
      " ...\n",
      " [ 1.24052178  1.21367248  1.10010291]\n",
      " [ 0.99696929  1.13326957  1.01153668]\n",
      " [ 1.14200617  1.17663294  1.20527532]]\n"
     ]
    }
   ],
   "source": [
    "# Standardize data with StandardScaler. This will standardize all the data stored in X_df dataframe.\n",
    "aal_stocks_scaled = StandardScaler().fit_transform(aal_stocks_df2)\n",
    "print(aal_stocks_scaled)"
   ]
  },
  {
   "cell_type": "code",
   "execution_count": 170,
   "metadata": {
    "scrolled": true
   },
   "outputs": [],
   "source": [
    "# Normalise the data to be processed\n",
    "from sklearn import preprocessing\n",
    "data_normaliser = preprocessing.MinMaxScaler()\n",
    "data_normalised = data_normaliser.fit_transform(aal_stocks_df2.values.reshape(-1, 1))\n"
   ]
  },
  {
   "cell_type": "code",
   "execution_count": 188,
   "metadata": {
    "scrolled": true
   },
   "outputs": [],
   "source": [
    "# In this case I chose to predict the closing value \"close\", which will be the 'y' or \"aal_stocks_df[\"close_\"]\n",
    "# Imputs are everything else without the closing value, which are in the DataFrame \"aal_stocks_df2\"\n",
    "# Split into features and target arrays. \n",
    "y = aal_stocks_df[\"close_\"].values\n",
    "X = aal_stocks_df2.values      # This line could also be replaced by aal_stocks_df.drop[\"date_\", \"close_\", \"volume_\"]\n",
    "\n",
    "\n",
    "# Split training/test datasets\n",
    "X_train, X_test, y_train, y_test = train_test_split(X, y, random_state=78) "
   ]
  },
  {
   "cell_type": "code",
   "execution_count": 189,
   "metadata": {},
   "outputs": [],
   "source": [
    "# Create a StandardScaler instance\n",
    "from sklearn.preprocessing import StandardScaler\n",
    "\n",
    "X_scaler = StandardScaler().fit(X_train)\n",
    "\n",
    "# Scale the data\n",
    "\n",
    "X_train_scaled = X_scaler.transform(X_train)\n",
    "X_test_scaled = X_scaler.transform(X_test)"
   ]
  },
  {
   "cell_type": "code",
   "execution_count": 193,
   "metadata": {},
   "outputs": [
    {
     "name": "stdout",
     "output_type": "stream",
     "text": [
      "Coefficient of determination: 0.9990356371118271\n",
      "Intercept: -0.0027011866939048446\n",
      "Slope: [-0.56716585  0.83525458  0.73050852]\n",
      "Predicted Response:\n",
      "[14.76649833 14.50642203 14.22146635 ... 50.61213251 50.68180058\n",
      " 51.71499697]\n"
     ]
    }
   ],
   "source": [
    "# Create a Linear Regression model. This is the actual statistical model for this experiment.\n",
    "model = LinearRegression()\n",
    "\n",
    "\n",
    "# Fitting the model, we use model.fit(). The above code line could also be combined with fit()\n",
    "model.fit(X, y)\n",
    "\n",
    "# Get the coefficient of determination\n",
    "r_sq = model.score(X, y)\n",
    "print('Coefficient of determination:', r_sq)\n",
    "print('Intercept:', model.intercept_)\n",
    "print('Slope:', model.coef_)\n",
    "\n",
    "\n",
    "# Predict \"y\"\n",
    "y_pred = model.predict(X)\n",
    "print('Predicted Response:', y_pred, sep='\\n')\n",
    "\n"
   ]
  },
  {
   "cell_type": "code",
   "execution_count": 185,
   "metadata": {
    "scrolled": true
   },
   "outputs": [
    {
     "name": "stdout",
     "output_type": "stream",
     "text": [
      "Model: \"sequential_2\"\n",
      "_________________________________________________________________\n",
      "Layer (type)                 Output Shape              Param #   \n",
      "=================================================================\n",
      "dense_6 (Dense)              (None, 4)                 16        \n",
      "_________________________________________________________________\n",
      "dense_7 (Dense)              (None, 4)                 20        \n",
      "_________________________________________________________________\n",
      "dense_8 (Dense)              (None, 1)                 5         \n",
      "=================================================================\n",
      "Total params: 41\n",
      "Trainable params: 41\n",
      "Non-trainable params: 0\n",
      "_________________________________________________________________\n"
     ]
    }
   ],
   "source": [
    "# This part of the code is purpose to set up the environment for alternate model using deep neural network\n",
    "# Define the model - deep neural network\n",
    "number_input_features = len(X_train[0])\n",
    "hidden_nodes_layer1 =  4\n",
    "hidden_nodes_layer2 = 4\n",
    "\n",
    "nn = tf.keras.models.Sequential()\n",
    "\n",
    "# First hidden layer\n",
    "nn.add(\n",
    "    tf.keras.layers.Dense(units=hidden_nodes_layer1, input_dim=number_input_features, activation=\"relu\")\n",
    ")\n",
    "\n",
    "# Second hidden layer\n",
    "nn.add(tf.keras.layers.Dense(units=hidden_nodes_layer2, activation=\"relu\"))\n",
    "\n",
    "#  Output layer\n",
    "nn.add(tf.keras.layers.Dense(units=1, activation=\"sigmoid\"))\n",
    "\n",
    "#  Check the structure of the model\n",
    "nn.summary()"
   ]
  },
  {
   "cell_type": "code",
   "execution_count": 186,
   "metadata": {},
   "outputs": [
    {
     "name": "stdout",
     "output_type": "stream",
     "text": [
      "Epoch 1/100\n",
      "944/944 [==============================] - 1s 1ms/sample - loss: 8.0909 - acc: 0.0000e+00\n",
      "Epoch 2/100\n",
      "944/944 [==============================] - 0s 41us/sample - loss: 2.9755 - acc: 0.0000e+00\n",
      "Epoch 3/100\n",
      "944/944 [==============================] - 0s 44us/sample - loss: -1.5985 - acc: 0.0000e+00\n",
      "Epoch 4/100\n",
      "944/944 [==============================] - 0s 41us/sample - loss: -6.4454 - acc: 0.0000e+00\n",
      "Epoch 5/100\n",
      "944/944 [==============================] - 0s 81us/sample - loss: -12.3256 - acc: 0.0000e+00\n",
      "Epoch 6/100\n",
      "944/944 [==============================] - 0s 66us/sample - loss: -19.0697 - acc: 0.0000e+00\n",
      "Epoch 7/100\n",
      "944/944 [==============================] - 0s 45us/sample - loss: -26.7359 - acc: 0.0000e+00\n",
      "Epoch 8/100\n",
      "944/944 [==============================] - 0s 37us/sample - loss: -35.4834 - acc: 0.0000e+00\n",
      "Epoch 9/100\n",
      "944/944 [==============================] - 0s 35us/sample - loss: -45.4843 - acc: 0.0000e+00\n",
      "Epoch 10/100\n",
      "944/944 [==============================] - 0s 53us/sample - loss: -56.9653 - acc: 0.0000e+00\n",
      "Epoch 11/100\n",
      "944/944 [==============================] - 0s 47us/sample - loss: -69.9302 - acc: 0.0000e+00\n",
      "Epoch 12/100\n",
      "944/944 [==============================] - 0s 35us/sample - loss: -84.7702 - acc: 0.0000e+00\n",
      "Epoch 13/100\n",
      "944/944 [==============================] - 0s 36us/sample - loss: -101.8428 - acc: 0.0000e+00\n",
      "Epoch 14/100\n",
      "944/944 [==============================] - 0s 46us/sample - loss: -122.0062 - acc: 0.0000e+00\n",
      "Epoch 15/100\n",
      "944/944 [==============================] - 0s 39us/sample - loss: -146.5789 - acc: 0.0000e+00\n",
      "Epoch 16/100\n",
      "944/944 [==============================] - 0s 43us/sample - loss: -177.7475 - acc: 0.0000e+00\n",
      "Epoch 17/100\n",
      "944/944 [==============================] - 0s 37us/sample - loss: -217.0676 - acc: 0.0000e+00\n",
      "Epoch 18/100\n",
      "944/944 [==============================] - 0s 35us/sample - loss: -266.0114 - acc: 0.0000e+00\n",
      "Epoch 19/100\n",
      "944/944 [==============================] - 0s 52us/sample - loss: -325.2221 - acc: 0.0000e+00\n",
      "Epoch 20/100\n",
      "944/944 [==============================] - 0s 40us/sample - loss: -394.9557 - acc: 0.0000e+00\n",
      "Epoch 21/100\n",
      "944/944 [==============================] - 0s 38us/sample - loss: -476.9053 - acc: 0.0000e+00\n",
      "Epoch 22/100\n",
      "944/944 [==============================] - 0s 41us/sample - loss: -571.5046 - acc: 0.0000e+00\n",
      "Epoch 23/100\n",
      "944/944 [==============================] - 0s 45us/sample - loss: -682.7108 - acc: 0.0000e+00\n",
      "Epoch 24/100\n",
      "944/944 [==============================] - 0s 36us/sample - loss: -813.7860 - acc: 0.0000e+00\n",
      "Epoch 25/100\n",
      "944/944 [==============================] - 0s 37us/sample - loss: -965.1770 - acc: 0.0000e+00\n",
      "Epoch 26/100\n",
      "944/944 [==============================] - 0s 46us/sample - loss: -1135.4882 - acc: 0.0000e+00\n",
      "Epoch 27/100\n",
      "944/944 [==============================] - 0s 56us/sample - loss: -1326.3634 - acc: 0.0000e+00\n",
      "Epoch 28/100\n",
      "944/944 [==============================] - 0s 39us/sample - loss: -1535.7882 - acc: 0.0000e+00\n",
      "Epoch 29/100\n",
      "944/944 [==============================] - 0s 40us/sample - loss: -1767.6522 - acc: 0.0000e+00\n",
      "Epoch 30/100\n",
      "944/944 [==============================] - 0s 39us/sample - loss: -2016.8042 - acc: 0.0000e+00\n",
      "Epoch 31/100\n",
      "944/944 [==============================] - 0s 54us/sample - loss: -2288.0187 - acc: 0.0000e+00\n",
      "Epoch 32/100\n",
      "944/944 [==============================] - 0s 45us/sample - loss: -2579.3343 - acc: 0.0000e+00\n",
      "Epoch 33/100\n",
      "944/944 [==============================] - ETA: 0s - loss: -3005.9355 - acc: 0.0000e+0 - 0s 50us/sample - loss: -2890.4339 - acc: 0.0000e+00\n",
      "Epoch 34/100\n",
      "944/944 [==============================] - 0s 39us/sample - loss: -3223.0582 - acc: 0.0000e+00\n",
      "Epoch 35/100\n",
      "944/944 [==============================] - 0s 35us/sample - loss: -3575.8965 - acc: 0.0000e+00\n",
      "Epoch 36/100\n",
      "944/944 [==============================] - 0s 102us/sample - loss: -3951.2052 - acc: 0.0000e+00\n",
      "Epoch 37/100\n",
      "944/944 [==============================] - 0s 39us/sample - loss: -4348.6876 - acc: 0.0000e+00\n",
      "Epoch 38/100\n",
      "944/944 [==============================] - 0s 35us/sample - loss: -4768.3541 - acc: 0.0000e+00\n",
      "Epoch 39/100\n",
      "944/944 [==============================] - 0s 49us/sample - loss: -5210.2798 - acc: 0.0000e+00\n",
      "Epoch 40/100\n",
      "944/944 [==============================] - 0s 36us/sample - loss: -5674.5201 - acc: 0.0000e+00\n",
      "Epoch 41/100\n",
      "944/944 [==============================] - 0s 40us/sample - loss: -6161.8522 - acc: 0.0000e+00\n",
      "Epoch 42/100\n",
      "944/944 [==============================] - 0s 36us/sample - loss: -6673.1447 - acc: 0.0000e+00\n",
      "Epoch 43/100\n",
      "944/944 [==============================] - 0s 37us/sample - loss: -7207.6864 - acc: 0.0000e+00\n",
      "Epoch 44/100\n",
      "944/944 [==============================] - 0s 37us/sample - loss: -7765.9386 - acc: 0.0000e+00\n",
      "Epoch 45/100\n",
      "944/944 [==============================] - 0s 43us/sample - loss: -8347.5609 - acc: 0.0000e+00\n",
      "Epoch 46/100\n",
      "944/944 [==============================] - 0s 44us/sample - loss: -8952.9644 - acc: 0.0000e+00\n",
      "Epoch 47/100\n",
      "944/944 [==============================] - 0s 42us/sample - loss: -9585.2665 - acc: 0.0000e+00\n",
      "Epoch 48/100\n",
      "944/944 [==============================] - 0s 37us/sample - loss: -10240.3320 - acc: 0.0000e+00\n",
      "Epoch 49/100\n",
      "944/944 [==============================] - 0s 33us/sample - loss: -10924.1795 - acc: 0.0000e+00\n",
      "Epoch 50/100\n",
      "944/944 [==============================] - ETA: 0s - loss: -12932.1387 - acc: 0.0000e+ - 0s 38us/sample - loss: -11625.0817 - acc: 0.0000e+00\n",
      "Epoch 51/100\n",
      "944/944 [==============================] - 0s 55us/sample - loss: -12361.3854 - acc: 0.0000e+00\n",
      "Epoch 52/100\n",
      "944/944 [==============================] - 0s 41us/sample - loss: -13114.9363 - acc: 0.0000e+00\n",
      "Epoch 53/100\n",
      "944/944 [==============================] - 0s 35us/sample - loss: -13902.5256 - acc: 0.0000e+00\n",
      "Epoch 54/100\n",
      "944/944 [==============================] - 0s 46us/sample - loss: -14700.0994 - acc: 0.0000e+00\n",
      "Epoch 55/100\n",
      "944/944 [==============================] - 0s 35us/sample - loss: -15538.9893 - acc: 0.0000e+00\n",
      "Epoch 56/100\n",
      "944/944 [==============================] - 0s 36us/sample - loss: -16393.2296 - acc: 0.0000e+00\n",
      "Epoch 57/100\n",
      "944/944 [==============================] - 0s 41us/sample - loss: -17283.1949 - acc: 0.0000e+00\n",
      "Epoch 58/100\n",
      "944/944 [==============================] - 0s 37us/sample - loss: -18195.6492 - acc: 0.0000e+00\n",
      "Epoch 59/100\n",
      "944/944 [==============================] - 0s 33us/sample - loss: -19132.1353 - acc: 0.0000e+00\n",
      "Epoch 60/100\n",
      "944/944 [==============================] - 0s 35us/sample - loss: -20094.5647 - acc: 0.0000e+00\n",
      "Epoch 61/100\n",
      "944/944 [==============================] - 0s 38us/sample - loss: -21092.6062 - acc: 0.0000e+00\n",
      "Epoch 62/100\n",
      "944/944 [==============================] - 0s 34us/sample - loss: -22111.8589 - acc: 0.0000e+00\n",
      "Epoch 63/100\n",
      "944/944 [==============================] - 0s 35us/sample - loss: -23153.6724 - acc: 0.0000e+00\n",
      "Epoch 64/100\n",
      "944/944 [==============================] - 0s 33us/sample - loss: -24228.6855 - acc: 0.0000e+00\n",
      "Epoch 65/100\n",
      "944/944 [==============================] - 0s 38us/sample - loss: -25324.7390 - acc: 0.0000e+00\n",
      "Epoch 66/100\n",
      "944/944 [==============================] - 0s 30us/sample - loss: -26456.5753 - acc: 0.0000e+00\n",
      "Epoch 67/100\n",
      "944/944 [==============================] - 0s 40us/sample - loss: -27607.0187 - acc: 0.0000e+00\n",
      "Epoch 68/100\n",
      "944/944 [==============================] - 0s 37us/sample - loss: -28796.3188 - acc: 0.0000e+00\n",
      "Epoch 69/100\n",
      "944/944 [==============================] - 0s 40us/sample - loss: -30010.6429 - acc: 0.0000e+00\n",
      "Epoch 70/100\n",
      "944/944 [==============================] - 0s 38us/sample - loss: -31254.0420 - acc: 0.0000e+00\n",
      "Epoch 71/100\n",
      "944/944 [==============================] - 0s 37us/sample - loss: -32524.3928 - acc: 0.0000e+00\n",
      "Epoch 72/100\n",
      "944/944 [==============================] - 0s 47us/sample - loss: -33823.6845 - acc: 0.0000e+00\n",
      "Epoch 73/100\n",
      "944/944 [==============================] - 0s 38us/sample - loss: -35154.2291 - acc: 0.0000e+00\n",
      "Epoch 74/100\n",
      "944/944 [==============================] - 0s 34us/sample - loss: -36514.2967 - acc: 0.0000e+00\n",
      "Epoch 75/100\n",
      "944/944 [==============================] - 0s 40us/sample - loss: -37900.0100 - acc: 0.0000e+00\n",
      "Epoch 76/100\n",
      "944/944 [==============================] - 0s 33us/sample - loss: -39311.2446 - acc: 0.0000e+00\n",
      "Epoch 77/100\n",
      "944/944 [==============================] - 0s 42us/sample - loss: -40759.5722 - acc: 0.0000e+00\n",
      "Epoch 78/100\n",
      "944/944 [==============================] - 0s 37us/sample - loss: -42228.5853 - acc: 0.0000e+00\n",
      "Epoch 79/100\n",
      "944/944 [==============================] - 0s 38us/sample - loss: -43732.5523 - acc: 0.0000e+00\n",
      "Epoch 80/100\n",
      "944/944 [==============================] - ETA: 0s - loss: -45834.3008 - acc: 0.0000e+ - 0s 38us/sample - loss: -45272.2227 - acc: 0.0000e+00\n",
      "Epoch 81/100\n",
      "944/944 [==============================] - 0s 36us/sample - loss: -46831.0774 - acc: 0.0000e+00\n",
      "Epoch 82/100\n",
      "944/944 [==============================] - 0s 33us/sample - loss: -48427.0906 - acc: 0.0000e+00\n",
      "Epoch 83/100\n",
      "944/944 [==============================] - 0s 35us/sample - loss: -50047.6715 - acc: 0.0000e+00\n",
      "Epoch 84/100\n",
      "944/944 [==============================] - 0s 37us/sample - loss: -51698.0830 - acc: 0.0000e+00\n",
      "Epoch 85/100\n",
      "944/944 [==============================] - 0s 34us/sample - loss: -53375.3696 - acc: 0.0000e+00\n",
      "Epoch 86/100\n",
      "944/944 [==============================] - 0s 41us/sample - loss: -55088.7536 - acc: 0.0000e+00\n",
      "Epoch 87/100\n",
      "944/944 [==============================] - 0s 34us/sample - loss: -56836.9002 - acc: 0.0000e+00\n",
      "Epoch 88/100\n",
      "944/944 [==============================] - 0s 28us/sample - loss: -58606.1865 - acc: 0.0000e+00\n",
      "Epoch 89/100\n",
      "944/944 [==============================] - 0s 47us/sample - loss: -60414.2336 - acc: 0.0000e+00\n",
      "Epoch 90/100\n",
      "944/944 [==============================] - 0s 60us/sample - loss: -62249.3032 - acc: 0.0000e+00\n",
      "Epoch 91/100\n",
      "944/944 [==============================] - 0s 30us/sample - loss: -64113.9331 - acc: 0.0000e+00\n",
      "Epoch 92/100\n",
      "944/944 [==============================] - 0s 34us/sample - loss: -66014.1129 - acc: 0.0000e+00\n",
      "Epoch 93/100\n",
      "944/944 [==============================] - 0s 33us/sample - loss: -67937.5813 - acc: 0.0000e+00\n",
      "Epoch 94/100\n",
      "944/944 [==============================] - 0s 37us/sample - loss: -69888.1302 - acc: 0.0000e+00\n",
      "Epoch 95/100\n",
      "944/944 [==============================] - 0s 37us/sample - loss: -71893.1010 - acc: 0.0000e+00\n",
      "Epoch 96/100\n",
      "944/944 [==============================] - 0s 33us/sample - loss: -73914.4995 - acc: 0.0000e+00\n",
      "Epoch 97/100\n",
      "944/944 [==============================] - 0s 33us/sample - loss: -75964.7593 - acc: 0.0000e+00\n",
      "Epoch 98/100\n",
      "944/944 [==============================] - 0s 35us/sample - loss: -78046.4413 - acc: 0.0000e+00\n",
      "Epoch 99/100\n",
      "944/944 [==============================] - 0s 31us/sample - loss: -80178.5326 - acc: 0.0000e+00\n",
      "Epoch 100/100\n",
      "944/944 [==============================] - 0s 31us/sample - loss: -82318.5736 - acc: 0.0000e+00\n",
      "315/315 - 0s - loss: -7.2162e+04 - acc: 0.0000e+00\n",
      "Loss: -72161.54112103174, Accuracy: 0.0\n"
     ]
    }
   ],
   "source": [
    "# Compile the Sequential model together and customize metrics\n",
    "nn.compile(loss=\"binary_crossentropy\", optimizer=\"adam\", metrics=[\"accuracy\"])\n",
    "\n",
    "# Train the model\n",
    "fit_model = nn.fit(X_train_scaled, y_train, epochs=100)\n",
    "\n",
    "# Evaluate the model using the test data\n",
    "model_loss, model_accuracy = nn.evaluate(X_test_scaled,y_test,verbose=2)\n",
    "print(f\"Loss: {model_loss}, Accuracy: {model_accuracy}\")"
   ]
  },
  {
   "cell_type": "markdown",
   "metadata": {},
   "source": [
    "VISUALIZATION"
   ]
  },
  {
   "cell_type": "code",
   "execution_count": 205,
   "metadata": {},
   "outputs": [
    {
     "data": {
      "image/png": "[encoded data removed]",
      "text/plain": [
       "<Figure size 1152x576 with 1 Axes>"
      ]
     },
     "metadata": {
      "needs_background": "light"
     },
     "output_type": "display_data"
    }
   ],
   "source": [
    "# Plot the input and the True and Prediction\n",
    "plt.figure(figsize = (16,8))\n",
    "plt.plot(range(1259),aal_stocks_df2.values,color='b',label='True')\n",
    "plt.plot(range(1259), aal_stocks_df.close_,color='orange',label='Prediction')\n",
    "plt.xlabel('Date')\n",
    "plt.ylabel('Price')\n",
    "plt.legend(fontsize=12)\n",
    "plt.show()"
   ]
  },
  {
   "cell_type": "code",
   "execution_count": null,
   "metadata": {},
   "outputs": [],
   "source": []
  }
 ],
 "metadata": {
  "kernelspec": {
   "display_name": "Python 3",
   "language": "python",
   "name": "python3"
  },
  "language_info": {
   "codemirror_mode": {
    "name": "ipython",
    "version": 3
   },
   "file_extension": ".py",
   "mimetype": "text/x-python",
   "name": "python",
   "nbconvert_exporter": "python",
   "pygments_lexer": "ipython3",
   "version": "3.7.7"
  }
 },
 "nbformat": 4,
 "nbformat_minor": 4
}
